{
 "cells": [
  {
   "cell_type": "code",
   "execution_count": 1,
   "metadata": {},
   "outputs": [],
   "source": [
    "import matplotlib.pyplot as plt\n",
    "import julian\n",
    "import numpy as np\n",
    "import pandas as pd\n",
    "import requests\n",
    "from bs4 import BeautifulSoup\n",
    "from urllib.parse import urljoin\n",
    "from multiprocessing import Pool\n",
    "\n",
    "from process_image import download_parse_metadata, process_image\n",
    "from process_urls import get_file_urls, process_url"
   ]
  },
  {
   "cell_type": "code",
   "execution_count": 2,
   "metadata": {},
   "outputs": [
    {
     "name": "stdout",
     "output_type": "stream",
     "text": [
      "Files found:\n",
      "Diviner: 42\n",
      "LOLA: 0\n"
     ]
    }
   ],
   "source": [
    "Diviner_home = 'https://pds-geosciences.wustl.edu/lro/urn-nasa-pds-lro_diviner_derived1/data_derived_gdr_l3/2016/polar/jp2/'\n",
    "LOLA_home = 'https://imbrium.mit.edu/DATA/LOLA_GDR/POLAR/JP2/'\n",
    "\n",
    "Diviner_urls = get_file_urls(Diviner_home, '.lbl', 'tbol')\n",
    "LOLA_urls = get_file_urls(LOLA_home, '.lbl', 'LDRM')\n",
    "\n",
    "print(f\"\"\"Files found:\n",
    "Diviner: {len(Diviner_urls)}\n",
    "LOLA: {len(LOLA_urls)}\"\"\")"
   ]
  },
  {
   "cell_type": "markdown",
   "metadata": {},
   "source": []
  }
 ],
 "metadata": {
  "kernelspec": {
   "display_name": "IRP",
   "language": "python",
   "name": "python3"
  },
  "language_info": {
   "codemirror_mode": {
    "name": "ipython",
    "version": 3
   },
   "file_extension": ".py",
   "mimetype": "text/x-python",
   "name": "python",
   "nbconvert_exporter": "python",
   "pygments_lexer": "ipython3",
   "version": "3.12.3"
  }
 },
 "nbformat": 4,
 "nbformat_minor": 2
}
