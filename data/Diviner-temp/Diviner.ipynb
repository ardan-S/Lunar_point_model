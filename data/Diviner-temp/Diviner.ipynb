{
 "cells": [
  {
   "cell_type": "code",
   "execution_count": 1,
   "metadata": {},
   "outputs": [],
   "source": [
    "import numpy as np\n",
    "import pandas as pd\n",
    "import julian\n",
    "import random\n",
    "import sys\n",
    "import os\n",
    "\n",
    "sys.path.append(os.path.abspath('../../data_processing'))\n",
    "from process_urls import get_file_urls, process_urls_in_parallel\n",
    "from utils import plot_polar_data"
   ]
  },
  {
   "cell_type": "code",
   "execution_count": 2,
   "metadata": {},
   "outputs": [
    {
     "name": "stdout",
     "output_type": "stream",
     "text": [
      "Found 5 temp files\n",
      "Processing temp files...\n",
      "Extracting image data...Extracting image data...Extracting image data...\n",
      "\n",
      "\n",
      "Extracting image data...\n",
      "Image data extracted\n",
      "sample projection offset: 1905.5, line projection offset: 1905.5, samples: 3812, lines: 3812, map resolution: 126.347\n",
      "center_lat: 90.0, center_lon: 0.0, map_resolution: 126.347, min_lat: 75.0, max_lat: 90.0\n",
      "Lats min: 89.29664208703777, max: 89.99981543774706\n",
      "Lats min: 75.0, max: 90.0, Lons min: -179.98496568402047, max: 179.98496568402047\n",
      "Coordinates generated\n",
      "Number of Lats between -85 and -90 (1): 0\n",
      "Extracting image data...\n",
      "Image data extracted\n",
      "sample projection offset: 1905.5, line projection offset: 1905.5, samples: 3812, lines: 3812, map resolution: 126.347\n",
      "center_lat: 90.0, center_lon: 0.0, map_resolution: 126.347, min_lat: 75.0, max_lat: 90.0\n",
      "Lats min: 89.29664208703777, max: 89.99981543774706\n",
      "Lats min: 75.0, max: 90.0, Lons min: -179.98496568402047, max: 179.98496568402047\n",
      "Coordinates generated\n",
      "Number of Lats between -85 and -90 (1): 0\n",
      "Image data extracted\n",
      "sample projection offset: 1905.5, line projection offset: 1905.5, samples: 3812, lines: 3812, map resolution: 126.347\n",
      "center_lat: 90.0, center_lon: 0.0, map_resolution: 126.347, min_lat: 75.0, max_lat: 90.0\n",
      "Lats min: 89.29664208703777, max: 89.99981543774706\n",
      "Lats min: 75.0, max: 90.0, Lons min: -179.98496568402047, max: 179.98496568402047\n",
      "Coordinates generated\n",
      "Number of Lats between -85 and -90 (1): 0\n",
      "Image data extracted\n",
      "sample projection offset: 1905.5, line projection offset: 1905.5, samples: 3812, lines: 3812, map resolution: 126.347\n",
      "center_lat: 90.0, center_lon: 0.0, map_resolution: 126.347, min_lat: 75.0, max_lat: 90.0\n",
      "Lats min: 89.29664208703777, max: 89.99981543774706\n",
      "Lats min: 75.0, max: 90.0, Lons min: -179.98496568402047, max: 179.98496568402047\n",
      "Coordinates generated\n",
      "Number of Lats between -85 and -90 (1): 0\n",
      "Image data extracted\n",
      "sample projection offset: 1905.5, line projection offset: 1905.5, samples: 3812, lines: 3812, map resolution: 126.347\n",
      "center_lat: 90.0, center_lon: 0.0, map_resolution: 126.347, min_lat: 75.0, max_lat: 90.0\n",
      "Lats min: 89.29664208703777, max: 89.99981543774706\n",
      "Lats min: 75.0, max: 90.0, Lons min: -179.98496568402047, max: 179.98496568402047\n",
      "Coordinates generated\n",
      "Number of Lats between -85 and -90 (1): 0\n",
      "Processed 5 images\n",
      "Files processed successfully\n"
     ]
    },
    {
     "ename": "",
     "evalue": "",
     "output_type": "error",
     "traceback": [
      "\u001b[1;31mThe Kernel crashed while executing code in the current cell or a previous cell. \n",
      "\u001b[1;31mPlease review the code in the cell(s) to identify a possible cause of the failure. \n",
      "\u001b[1;31mClick <a href='https://aka.ms/vscodeJupyterKernelCrash'>here</a> for more info. \n",
      "\u001b[1;31mView Jupyter <a href='command:jupyter.viewOutput'>log</a> for further details."
     ]
    }
   ],
   "source": [
    "temp_home = 'https://pds-geosciences.wustl.edu/lro/urn-nasa-pds-lro_diviner_derived1/data_derived_gdr_l3/2016/polar/jp2/'\n",
    "\n",
    "# Get and print all .lbl file URLs from the given page\n",
    "temp_urls = get_file_urls(temp_home, '.lbl', 'tbol', limit=4)\n",
    "print(f\"Found {len(temp_urls)} temp files\")\n",
    "\n",
    "# temp_urls = temp_urls[:5]\n",
    "\n",
    "# selected_indices = random.sample(range(len(temp_urls)), 5)\n",
    "# print(f\"Selected indices: {selected_indices}\")\n",
    "# temp_urls = [temp_urls[i] for i in selected_indices]\n",
    "\n",
    "print(\"Processing temp files...\")\n",
    "temp_df = process_urls_in_parallel(temp_urls, 'Diviner')\n",
    "print(\"Files processed successfully\")"
   ]
  },
  {
   "cell_type": "code",
   "execution_count": 3,
   "metadata": {},
   "outputs": [
    {
     "name": "stdout",
     "output_type": "stream",
     "text": [
      "Number of NaNs in Temperatures: 11638135 out of 72656720 (16.02%)\n",
      "\n",
      "          Longitude      Latitude       Diviner\n",
      "count  7.265672e+07  7.265672e+07  6.101858e+07\n",
      "mean   1.799995e+02  8.188338e+01  1.714338e+02\n",
      "std    1.034039e+02  3.022930e+00  8.406357e+01\n",
      "min    1.503432e-02  7.500000e+01  3.754000e+01\n",
      "25%    9.000752e+01  7.963361e+01  8.154000e+01\n",
      "50%    1.800000e+02  8.153659e+01  1.949200e+02\n",
      "75%    2.699925e+02  8.401658e+01  2.503200e+02\n",
      "max    3.599850e+02  9.000000e+01  3.512600e+02\n"
     ]
    }
   ],
   "source": [
    "print(f\"Number of NaNs in Temperatures: {np.isnan(temp_df[\"Diviner\"]).sum()} out of {np.prod(temp_df[\"Diviner\"].shape)} ({(np.isnan(temp_df[\"Diviner\"]).sum()/np.prod(temp_df[\"Diviner\"].shape)*100):.2f}%)\\n\")\n",
    "\n",
    "print(temp_df.describe())\n",
    "\n",
    "plot_polar_data(temp_df, 'Diviner', frac=0.75, title_prefix='Diviner temperature')"
   ]
  }
 ],
 "metadata": {
  "kernelspec": {
   "display_name": "IRP",
   "language": "python",
   "name": "python3"
  },
  "language_info": {
   "codemirror_mode": {
    "name": "ipython",
    "version": 3
   },
   "file_extension": ".py",
   "mimetype": "text/x-python",
   "name": "python",
   "nbconvert_exporter": "python",
   "pygments_lexer": "ipython3",
   "version": "3.12.3"
  }
 },
 "nbformat": 4,
 "nbformat_minor": 2
}
