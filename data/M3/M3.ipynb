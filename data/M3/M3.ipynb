{
 "cells": [
  {
   "cell_type": "code",
   "execution_count": 13,
   "metadata": {},
   "outputs": [
    {
     "name": "stdout",
     "output_type": "stream",
     "text": [
      "   LINE NUMBER                    UTC_TIME  YEAR        DDOY\n",
      "0            1  2008-11-18T22:26:03.491014  2008  322.934763\n",
      "1            2  2008-11-18T22:26:03.592772  2008  322.934764\n",
      "2            3  2008-11-18T22:26:03.694531  2008  322.934765\n",
      "3            4  2008-11-18T22:26:03.796289  2008  322.934766\n",
      "4            5  2008-11-18T22:26:03.898048  2008  322.934767\n",
      "5            6  2008-11-18T22:26:03.999806  2008  322.934769\n",
      "6            7  2008-11-18T22:26:04.101565  2008  322.934770\n",
      "7            8  2008-11-18T22:26:04.203324  2008  322.934771\n",
      "8            9  2008-11-18T22:26:04.305082  2008  322.934772\n",
      "9           10  2008-11-18T22:26:04.406841  2008  322.934773\n",
      "\n",
      "       LINE NUMBER    YEAR         DDOY\n",
      "count  1182.000000  1182.0  1182.000000\n",
      "mean    591.500000  2008.0   322.935458\n",
      "std     341.358316     0.0     0.000402\n",
      "min       1.000000  2008.0   322.934763\n",
      "25%     296.250000  2008.0   322.935110\n",
      "50%     591.500000  2008.0   322.935458\n",
      "75%     886.750000  2008.0   322.935806\n",
      "max    1182.000000  2008.0   322.936154\n"
     ]
    }
   ],
   "source": [
    "import pandas as pd\n",
    "\n",
    "url = 'https://planetarydata.jpl.nasa.gov/img/data/m3/CH1M3_0001/DATA/20081118_20090214/200811/L1B/M3G20081118T222604_V02_TIM.TAB'\n",
    "\n",
    "\n",
    "# df = pd.read_csv(url, sep=r'\\s+', header=None)\n",
    "column_names = ['LINE NUMBER', 'UTC_TIME', 'YEAR', 'DDOY']\n",
    "df = pd.read_csv(url, sep=r'\\s+', header=None, names=column_names, dtype={'LINE NUMBER': int, 'UTC_TIME': str, 'YEAR': int, 'DDOY': float})\n",
    "\n",
    "\n",
    "\n",
    "print(df.head(10))\n",
    "print()\n",
    "print(df.describe())"
   ]
  }
 ],
 "metadata": {
  "kernelspec": {
   "display_name": "IRP",
   "language": "python",
   "name": "python3"
  },
  "language_info": {
   "codemirror_mode": {
    "name": "ipython",
    "version": 3
   },
   "file_extension": ".py",
   "mimetype": "text/x-python",
   "name": "python",
   "nbconvert_exporter": "python",
   "pygments_lexer": "ipython3",
   "version": "3.12.3"
  }
 },
 "nbformat": 4,
 "nbformat_minor": 2
}
