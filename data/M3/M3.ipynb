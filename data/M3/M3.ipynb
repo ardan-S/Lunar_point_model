{
 "cells": [
  {
   "cell_type": "code",
   "execution_count": 1,
   "metadata": {},
   "outputs": [],
   "source": [
    "import numpy as np\n",
    "import pandas as pd\n",
    "\n",
    "import sys\n",
    "import os\n",
    "\n",
    "sys.path.append(os.path.abspath('../../data_processing'))\n",
    "\n",
    "from process_urls import process_urls_in_parallel, get_M3_urls"
   ]
  },
  {
   "cell_type": "code",
   "execution_count": 2,
   "metadata": {},
   "outputs": [
    {
     "data": {
      "text/plain": [
       "'\\nCONSIDER DASK INSTEAD OF PANDAS / MULTIPROCESSING \\nhttps://www.dask.org/\\n'"
      ]
     },
     "execution_count": 2,
     "metadata": {},
     "output_type": "execute_result"
    }
   ],
   "source": [
    "\"\"\"\n",
    "CONSIDER DASK INSTEAD OF PANDAS / MULTIPROCESSING \n",
    "https://www.dask.org/\n",
    "\"\"\""
   ]
  },
  {
   "cell_type": "code",
   "execution_count": 3,
   "metadata": {},
   "outputs": [
    {
     "name": "stdout",
     "output_type": "stream",
     "text": [
      "Found 887 M3 data files\n",
      "Processing M3 files...\n",
      "metadata: {'': {'PDS_VERSION_ID': 'PDS3', 'LABEL_REVISION_NOTE': '2011-03-31  UMD/ACT  Original RLFL product.', 'DATA_SET_ID': 'CH1-ORB-L-M3-4-L2-REFLECTANCE-V1.0', 'PRODUCT_ID': 'M3G20081118T223204_V01_RFL', 'RECORD_TYPE': 'UNDEFINED', 'MISSION_ID': 'CH1', 'MISSION_NAME': 'CHANDRAYAAN-1', 'INSTRUMENT_HOST_ID': 'CH1-ORB', 'INSTRUMENT_HOST_NAME': 'CHANDRAYAAN-1 ORBITER', 'INSTRUMENT_NAME': 'MOON MINERALOGY MAPPER', 'INSTRUMENT_ID': 'M3', 'TARGET_NAME': 'MOON', 'TARGET_TYPE': 'SATELLITE', 'MISSION_PHASE_NAME': 'PRIMARY MISSION', 'PRODUCT_TYPE': 'REFLECTANCE_IMAGE', 'PRODUCT_CREATION_TIME': '2011-11-19T12:03:17.362', 'START_TIME': '2008-11-18T22:32:04', 'STOP_TIME': '2008-11-18T22:34:04', 'SPACECRAFT_CLOCK_START_COUNT': '2/599698.948', 'SPACECRAFT_CLOCK_STOP_COUNT': '2/599818.922', 'ORBIT_NUMBER': 141, 'PRODUCT_VERSION_TYPE': 'ACTUAL', 'PRODUCER_INSTITUTION_NAME': 'APPLIED COHERENT TECHNOLOGY CORP.', 'SOFTWARE_NAME': 'PIPE_REACT_m3v01_', 'SOFTWARE_VERSION_ID': '01', 'DESCRIPTION': '\"M3 Level 2 data product which contains', 'SOLAR_DISTANCE': '0.988782667461 <AU>', 'INSTRUMENT_MODE_ID': 'GLOBAL', 'DETECTOR_TEMPERATURE': 173.47, 'CH1:SWATH_WIDTH': '304 <pixel>', 'CH1:SWATH_LENGTH': '1180 <pixel>', 'CH1:SPACECRAFT_YAW_DIRECTION': 'FORWARD', 'CH1:ORBIT_LIMB_DIRECTION': 'ASCENDING', 'SPACECRAFT_ORIENTATION': '(0.770443460000,-0.229314980000,', 'CH1:INITIAL_SC_ORIENTATION': '(\"N/A\",\"N/A\",', 'CH1:SC_ORIENTATION_EPOCH_TDB_TIME': 'N/A', 'CH1:SC_ORIENTATION_RATE': '(\"N/A\",\"N/A\",', 'CH1:SC_ROTATION_AXIS_VECTOR': '(\"N/A\",\"N/A\",', 'CH1:SC_ROTATION_RATE': 'N/A', '^DESCRIPTION': 'L1B_NAV_DESC.ASC', 'CH1:SPECTRAL_CALIBRATION_FILE_NAME': 'M3G20081211_RDN_SPC.TAB', 'CH1:RAD_GAIN_FACTOR_FILE_NAME': 'M3G20081211_RDN_GAIN.TAB', 'CH1:GLOBAL_BANDPASS_FILE_NAME': 'M3G20081211_RDN_BPF.IMG', 'SOURCE_DATA_SET_ID': 'CH1-ORB-L-M3-4-L1B-RADIANCE-V3.0', 'SOURCE_PRODUCT_ID': 'M3G20081118T223204_V03_RDN', 'CH1:RADIANCE_IMAGE_FILE_NAME': 'M3G20081118T223204_V03_RDN.IMG', 'CH1:OBS_GEOMETRY_FILE_NAME': 'M3G20081118T223204_V03_OBS.IMG', 'CH1:PIXEL_LOCATION_FILE_NAME': 'M3G20081118T223204_V03_LOC.IMG', 'CH1:SOLAR_SPECTRUM_FILE_NAME': 'M3G20110224_RFL_SOLAR_SPEC.TAB', 'CH1:STATISTICAL_POLISHER_FILE_NAME': 'M3G20110830_RFL_STAT_POL_2.TAB', 'CH1:THERMAL_CORRECTION_FLAG': 'Y', 'CH1:PHOTOMETRY_CORR_FILE_NAME': 'M3G20111109_RFL_F_ALPHA_HIL.TAB', 'CH1:GROUND_TRUTH_CORR_FILE_NAME': 'N/A'}, 'RFL_FILE': {'^RFL_IMAGE': 'M3G20081118T223204_V01_RFL.IMG', 'RECORD_TYPE': 'FIXED_LENGTH', 'RECORD_BYTES': 103360, 'FILE_RECORDS': 1180}, 'RFL_FILE.RFL_IMAGE': {'LINES': 1180, 'LINE_SAMPLES': 304, 'SAMPLE_TYPE': 'PC_REAL', 'SAMPLE_BITS': 32, 'BANDS': 85, 'BAND_STORAGE_TYPE': 'LINE_INTERLEAVED', 'LINE_DISPLAY_DIRECTION': 'DOWN', 'SAMPLE_DISPLAY_DIRECTION': 'RIGHT', 'INVALID_CONSTANT': '-999.0'}, 'RFL_HDR_FILE': {'^RFL_ENVI_HEADER': 'M3G20081118T223204_V01_RFL.HDR', 'RECORD_TYPE': 'VARIABLE_LENGTH', 'FILE_RECORDS': 1242}, 'RFL_HDR_FILE.RFL_ENVI_HEADER': {'INTERCHANGE_FORMAT': 'ASCII', 'BYTES': 37989, 'HEADER_TYPE': 'ENVI', 'DESCRIPTION': '\"Header file for compatibility with the commercial'}, 'SUPPLEMENTAL_FILE': {'^SUPPL_IMAGE': 'M3G20081118T223204_V01_SUP.IMG', 'RECORD_TYPE': 'FIXED_LENGTH', 'RECORD_BYTES': 3648, 'FILE_RECORDS': 1180}, 'SUPPLEMENTAL_FILE.SUPPL_IMAGE': {'LINES': 1180, 'LINE_SAMPLES': 304, 'SAMPLE_TYPE': 'PC_REAL', 'SAMPLE_BITS': 32, 'BANDS': 3, 'BAND_STORAGE_TYPE': 'LINE_INTERLEAVED', 'BAND_NAME': '(\"1489NM RFL (PHOTOM RELATIVE TO SPHERE)\",', 'LINE_DISPLAY_DIRECTION': 'DOWN', 'SAMPLE_DISPLAY_DIRECTION': 'RIGHT'}, 'SUPPLEMENTAL_HDR_FILE': {'^SUPPL_ENVI_HEADER': 'M3G20081118T223204_V01_SUP.HDR', 'RECORD_TYPE': 'VARIABLE_LENGTH', 'FILE_RECORDS': 14}, 'SUPPLEMENTAL_HDR_FILE.SUPPL_ENVI_HEADER': {'INTERCHANGE_FORMAT': 'ASCII', 'BYTES': 291, 'HEADER_TYPE': 'ENVI', 'DESCRIPTION': '\"Header file for compatibility with the commercial'}}\n",
      "Extracting image data...\n",
      "metadata: {'': {'PDS_VERSION_ID': 'PDS3', 'LABEL_REVISION_NOTE': '2011-03-31  UMD/ACT  Original RLFL product.', 'DATA_SET_ID': 'CH1-ORB-L-M3-4-L2-REFLECTANCE-V1.0', 'PRODUCT_ID': 'M3G20081118T222604_V01_RFL', 'RECORD_TYPE': 'UNDEFINED', 'MISSION_ID': 'CH1', 'MISSION_NAME': 'CHANDRAYAAN-1', 'INSTRUMENT_HOST_ID': 'CH1-ORB', 'INSTRUMENT_HOST_NAME': 'CHANDRAYAAN-1 ORBITER', 'INSTRUMENT_NAME': 'MOON MINERALOGY MAPPER', 'INSTRUMENT_ID': 'M3', 'TARGET_NAME': 'MOON', 'TARGET_TYPE': 'SATELLITE', 'MISSION_PHASE_NAME': 'PRIMARY MISSION', 'PRODUCT_TYPE': 'REFLECTANCE_IMAGE', 'PRODUCT_CREATION_TIME': '2011-11-19T12:02:51.131', 'START_TIME': '2008-11-18T22:26:04', 'STOP_TIME': '2008-11-18T22:28:04', 'SPACECRAFT_CLOCK_START_COUNT': '2/599338.975', 'SPACECRAFT_CLOCK_STOP_COUNT': '2/599459.153', 'ORBIT_NUMBER': 141, 'PRODUCT_VERSION_TYPE': 'ACTUAL', 'PRODUCER_INSTITUTION_NAME': 'APPLIED COHERENT TECHNOLOGY CORP.', 'SOFTWARE_NAME': 'PIPE_REACT_m3v01_', 'SOFTWARE_VERSION_ID': '01', 'DESCRIPTION': '\"M3 Level 2 data product which contains', 'SOLAR_DISTANCE': '0.988788923392 <AU>', 'INSTRUMENT_MODE_ID': 'GLOBAL', 'DETECTOR_TEMPERATURE': 174.05, 'CH1:SWATH_WIDTH': '304 <pixel>', 'CH1:SWATH_LENGTH': '1182 <pixel>', 'CH1:SPACECRAFT_YAW_DIRECTION': 'FORWARD', 'CH1:ORBIT_LIMB_DIRECTION': 'ASCENDING', 'SPACECRAFT_ORIENTATION': '(0.770443460000,-0.229314980000,', 'CH1:INITIAL_SC_ORIENTATION': '(\"N/A\",\"N/A\",', 'CH1:SC_ORIENTATION_EPOCH_TDB_TIME': 'N/A', 'CH1:SC_ORIENTATION_RATE': '(\"N/A\",\"N/A\",', 'CH1:SC_ROTATION_AXIS_VECTOR': '(\"N/A\",\"N/A\",', 'CH1:SC_ROTATION_RATE': 'N/A', '^DESCRIPTION': 'L1B_NAV_DESC.ASC', 'CH1:SPECTRAL_CALIBRATION_FILE_NAME': 'M3G20081211_RDN_SPC.TAB', 'CH1:RAD_GAIN_FACTOR_FILE_NAME': 'M3G20081211_RDN_GAIN.TAB', 'CH1:GLOBAL_BANDPASS_FILE_NAME': 'M3G20081211_RDN_BPF.IMG', 'SOURCE_DATA_SET_ID': 'CH1-ORB-L-M3-4-L1B-RADIANCE-V3.0', 'SOURCE_PRODUCT_ID': 'M3G20081118T222604_V03_RDN', 'CH1:RADIANCE_IMAGE_FILE_NAME': 'M3G20081118T222604_V03_RDN.IMG', 'CH1:OBS_GEOMETRY_FILE_NAME': 'M3G20081118T222604_V03_OBS.IMG', 'CH1:PIXEL_LOCATION_FILE_NAME': 'M3G20081118T222604_V03_LOC.IMG', 'CH1:SOLAR_SPECTRUM_FILE_NAME': 'M3G20110224_RFL_SOLAR_SPEC.TAB', 'CH1:STATISTICAL_POLISHER_FILE_NAME': 'M3G20110830_RFL_STAT_POL_2.TAB', 'CH1:THERMAL_CORRECTION_FLAG': 'Y', 'CH1:PHOTOMETRY_CORR_FILE_NAME': 'M3G20111109_RFL_F_ALPHA_HIL.TAB', 'CH1:GROUND_TRUTH_CORR_FILE_NAME': 'N/A'}, 'RFL_FILE': {'^RFL_IMAGE': 'M3G20081118T222604_V01_RFL.IMG', 'RECORD_TYPE': 'FIXED_LENGTH', 'RECORD_BYTES': 103360, 'FILE_RECORDS': 1182}, 'RFL_FILE.RFL_IMAGE': {'LINES': 1182, 'LINE_SAMPLES': 304, 'SAMPLE_TYPE': 'PC_REAL', 'SAMPLE_BITS': 32, 'BANDS': 85, 'BAND_STORAGE_TYPE': 'LINE_INTERLEAVED', 'LINE_DISPLAY_DIRECTION': 'DOWN', 'SAMPLE_DISPLAY_DIRECTION': 'RIGHT', 'INVALID_CONSTANT': '-999.0'}, 'RFL_HDR_FILE': {'^RFL_ENVI_HEADER': 'M3G20081118T222604_V01_RFL.HDR', 'RECORD_TYPE': 'VARIABLE_LENGTH', 'FILE_RECORDS': 1242}, 'RFL_HDR_FILE.RFL_ENVI_HEADER': {'INTERCHANGE_FORMAT': 'ASCII', 'BYTES': 37989, 'HEADER_TYPE': 'ENVI', 'DESCRIPTION': '\"Header file for compatibility with the commercial'}, 'SUPPLEMENTAL_FILE': {'^SUPPL_IMAGE': 'M3G20081118T222604_V01_SUP.IMG', 'RECORD_TYPE': 'FIXED_LENGTH', 'RECORD_BYTES': 3648, 'FILE_RECORDS': 1182}, 'SUPPLEMENTAL_FILE.SUPPL_IMAGE': {'LINES': 1182, 'LINE_SAMPLES': 304, 'SAMPLE_TYPE': 'PC_REAL', 'SAMPLE_BITS': 32, 'BANDS': 3, 'BAND_STORAGE_TYPE': 'LINE_INTERLEAVED', 'BAND_NAME': '(\"1489NM RFL (PHOTOM RELATIVE TO SPHERE)\",', 'LINE_DISPLAY_DIRECTION': 'DOWN', 'SAMPLE_DISPLAY_DIRECTION': 'RIGHT'}, 'SUPPLEMENTAL_HDR_FILE': {'^SUPPL_ENVI_HEADER': 'M3G20081118T222604_V01_SUP.HDR', 'RECORD_TYPE': 'VARIABLE_LENGTH', 'FILE_RECORDS': 14}, 'SUPPLEMENTAL_HDR_FILE.SUPPL_ENVI_HEADER': {'INTERCHANGE_FORMAT': 'ASCII', 'BYTES': 291, 'HEADER_TYPE': 'ENVI', 'DESCRIPTION': '\"Header file for compatibility with the commercial'}}\n",
      "Extracting image data...\n"
     ]
    },
    {
     "ename": "ValueError",
     "evalue": "Unsupported number of bands: 85",
     "output_type": "error",
     "traceback": [
      "\u001b[0;31m---------------------------------------------------------------------------\u001b[0m",
      "\u001b[0;31mRemoteTraceback\u001b[0m                           Traceback (most recent call last)",
      "\u001b[0;31mRemoteTraceback\u001b[0m: \n\"\"\"\nTraceback (most recent call last):\n  File \"/home/as5023/miniconda3/envs/IRP/lib/python3.12/multiprocessing/pool.py\", line 125, in worker\n    result = (True, func(*args, **kwds))\n                    ^^^^^^^^^^^^^^^^^^^\n  File \"/home/as5023/miniconda3/envs/IRP/lib/python3.12/multiprocessing/pool.py\", line 48, in mapstar\n    return list(map(*args))\n           ^^^^^^^^^^^^^^^^\n  File \"/home/as5023/ACSE/irp-as5023/src/process_urls.py\", line 74, in process_url\n    df = process_image(metadata, image_url, label_type, output_csv_path)\n         ^^^^^^^^^^^^^^^^^^^^^^^^^^^^^^^^^^^^^^^^^^^^^^^^^^^^^^^^^^^^^^^\n  File \"/home/as5023/ACSE/irp-as5023/src/process_image.py\", line 226, in process_image\n    image_data = (extract_image_data(jp2_file_path, data_type, metadata, 0.02) if data_type == 'MiniRF' else extract_image_data(jp2_file_path, data_type, metadata))\n                                                                                                             ^^^^^^^^^^^^^^^^^^^^^^^^^^^^^^^^^^^^^^^^^^^^^^^^^^^^^^\n  File \"/home/as5023/ACSE/irp-as5023/src/process_image.py\", line 149, in extract_image_data\n    raise ValueError(f\"Unsupported number of bands: {bands}\")\nValueError: Unsupported number of bands: 85\n\"\"\"",
      "\nThe above exception was the direct cause of the following exception:\n",
      "\u001b[0;31mValueError\u001b[0m                                Traceback (most recent call last)",
      "Cell \u001b[0;32mIn[3], line 10\u001b[0m\n\u001b[1;32m      7\u001b[0m M3_data_urls \u001b[38;5;241m=\u001b[39m M3_data_urls[:\u001b[38;5;241m2\u001b[39m]\n\u001b[1;32m      9\u001b[0m \u001b[38;5;28mprint\u001b[39m(\u001b[38;5;124m\"\u001b[39m\u001b[38;5;124mProcessing M3 files...\u001b[39m\u001b[38;5;124m\"\u001b[39m)\n\u001b[0;32m---> 10\u001b[0m M3_data_df \u001b[38;5;241m=\u001b[39m process_urls_in_parallel(M3_data_urls, \u001b[38;5;124m'\u001b[39m\u001b[38;5;124mM3-data\u001b[39m\u001b[38;5;124m'\u001b[39m)\n\u001b[1;32m     11\u001b[0m \u001b[38;5;28mprint\u001b[39m(\u001b[38;5;124m\"\u001b[39m\u001b[38;5;124mFiles processed successfully\u001b[39m\u001b[38;5;124m\"\u001b[39m)\n\u001b[1;32m     13\u001b[0m \u001b[38;5;28mprint\u001b[39m(\u001b[38;5;124mf\u001b[39m\u001b[38;5;124m\"\u001b[39m\u001b[38;5;124mSize of M3 data dataframe: \u001b[39m\u001b[38;5;132;01m{\u001b[39;00mM3_data_df\u001b[38;5;241m.\u001b[39mshape\u001b[38;5;132;01m}\u001b[39;00m\u001b[38;5;124m\"\u001b[39m)\n",
      "File \u001b[0;32m~/ACSE/irp-as5023/src/process_urls.py:52\u001b[0m, in \u001b[0;36mprocess_urls_in_parallel\u001b[0;34m(urls, label_type, output_csv_path, num_processes)\u001b[0m\n\u001b[1;32m     50\u001b[0m url_info_list \u001b[38;5;241m=\u001b[39m [(url, output_csv_path, label_type) \u001b[38;5;28;01mfor\u001b[39;00m url \u001b[38;5;129;01min\u001b[39;00m urls]\n\u001b[1;32m     51\u001b[0m \u001b[38;5;28;01mwith\u001b[39;00m Pool(num_processes) \u001b[38;5;28;01mas\u001b[39;00m pool:\n\u001b[0;32m---> 52\u001b[0m     dfs \u001b[38;5;241m=\u001b[39m pool\u001b[38;5;241m.\u001b[39mmap(process_url, url_info_list)\n\u001b[1;32m     53\u001b[0m     \u001b[38;5;28mprint\u001b[39m(\u001b[38;5;124mf\u001b[39m\u001b[38;5;124m\"\u001b[39m\u001b[38;5;124mProcessed \u001b[39m\u001b[38;5;132;01m{\u001b[39;00m\u001b[38;5;28mlen\u001b[39m(dfs)\u001b[38;5;132;01m}\u001b[39;00m\u001b[38;5;124m images\u001b[39m\u001b[38;5;124m\"\u001b[39m)\n\u001b[1;32m     54\u001b[0m \u001b[38;5;28;01mreturn\u001b[39;00m pd\u001b[38;5;241m.\u001b[39mconcat(dfs, axis\u001b[38;5;241m=\u001b[39m\u001b[38;5;241m0\u001b[39m)\n",
      "File \u001b[0;32m~/miniconda3/envs/IRP/lib/python3.12/multiprocessing/pool.py:367\u001b[0m, in \u001b[0;36mPool.map\u001b[0;34m(self, func, iterable, chunksize)\u001b[0m\n\u001b[1;32m    362\u001b[0m \u001b[38;5;28;01mdef\u001b[39;00m \u001b[38;5;21mmap\u001b[39m(\u001b[38;5;28mself\u001b[39m, func, iterable, chunksize\u001b[38;5;241m=\u001b[39m\u001b[38;5;28;01mNone\u001b[39;00m):\n\u001b[1;32m    363\u001b[0m \u001b[38;5;250m    \u001b[39m\u001b[38;5;124;03m'''\u001b[39;00m\n\u001b[1;32m    364\u001b[0m \u001b[38;5;124;03m    Apply `func` to each element in `iterable`, collecting the results\u001b[39;00m\n\u001b[1;32m    365\u001b[0m \u001b[38;5;124;03m    in a list that is returned.\u001b[39;00m\n\u001b[1;32m    366\u001b[0m \u001b[38;5;124;03m    '''\u001b[39;00m\n\u001b[0;32m--> 367\u001b[0m     \u001b[38;5;28;01mreturn\u001b[39;00m \u001b[38;5;28mself\u001b[39m\u001b[38;5;241m.\u001b[39m_map_async(func, iterable, mapstar, chunksize)\u001b[38;5;241m.\u001b[39mget()\n",
      "File \u001b[0;32m~/miniconda3/envs/IRP/lib/python3.12/multiprocessing/pool.py:774\u001b[0m, in \u001b[0;36mApplyResult.get\u001b[0;34m(self, timeout)\u001b[0m\n\u001b[1;32m    772\u001b[0m     \u001b[38;5;28;01mreturn\u001b[39;00m \u001b[38;5;28mself\u001b[39m\u001b[38;5;241m.\u001b[39m_value\n\u001b[1;32m    773\u001b[0m \u001b[38;5;28;01melse\u001b[39;00m:\n\u001b[0;32m--> 774\u001b[0m     \u001b[38;5;28;01mraise\u001b[39;00m \u001b[38;5;28mself\u001b[39m\u001b[38;5;241m.\u001b[39m_value\n",
      "\u001b[0;31mValueError\u001b[0m: Unsupported number of bands: 85"
     ]
    }
   ],
   "source": [
    "M3_data_home = 'https://planetarydata.jpl.nasa.gov/img/data/m3/CH1M3_0004_md5.txt'\n",
    "\n",
    "# Get and print all .lbl file URLs from the given page\n",
    "M3_data_urls = get_M3_urls(M3_data_home, '.LBL', 'DATA')\n",
    "print(f\"Found {len(M3_data_urls)} M3 data files\")\n",
    "\n",
    "M3_data_urls = M3_data_urls[:2]\n",
    "\n",
    "print(\"Processing M3 files...\")\n",
    "M3_data_df = process_urls_in_parallel(M3_data_urls, 'M3-data')\n",
    "print(\"Files processed successfully\")\n",
    "\n",
    "print(f\"Size of M3 data dataframe: {M3_data_df.shape}\")"
   ]
  }
 ],
 "metadata": {
  "kernelspec": {
   "display_name": "IRP",
   "language": "python",
   "name": "python3"
  },
  "language_info": {
   "codemirror_mode": {
    "name": "ipython",
    "version": 3
   },
   "file_extension": ".py",
   "mimetype": "text/x-python",
   "name": "python",
   "nbconvert_exporter": "python",
   "pygments_lexer": "ipython3",
   "version": "3.12.3"
  }
 },
 "nbformat": 4,
 "nbformat_minor": 2
}
